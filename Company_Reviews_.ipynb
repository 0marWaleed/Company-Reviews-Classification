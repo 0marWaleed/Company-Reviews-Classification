{
  "nbformat": 4,
  "nbformat_minor": 0,
  "metadata": {
    "colab": {
      "provenance": []
    },
    "kernelspec": {
      "name": "python3",
      "display_name": "Python 3"
    },
    "language_info": {
      "name": "python"
    }
  },
  "cells": [
    {
      "cell_type": "code",
      "execution_count": 1,
      "metadata": {
        "id": "H24K7qF3SHS-"
      },
      "outputs": [],
      "source": [
        "import pandas as pd\n",
        "import numpy as np\n",
        "import matplotlib.pyplot as plt\n",
        "import seaborn as sns\n",
        "import warnings\n",
        "warnings.filterwarnings('ignore')"
      ]
    },
    {
      "cell_type": "code",
      "source": [
        "df = pd.read_csv('/content/CompanyReviews.csv')\n",
        "df.columns = df.columns.str.strip().str.replace(r'\\s+', ' ', regex=True)\n",
        "pd.set_option(\"display.max_columns\",None)\n",
        "df.head()"
      ],
      "metadata": {
        "colab": {
          "base_uri": "https://localhost:8080/",
          "height": 206
        },
        "id": "nwdS-EqaSbYQ",
        "outputId": "d5f4802b-4b1e-40b5-f9be-8397039f2cdd"
      },
      "execution_count": 2,
      "outputs": [
        {
          "output_type": "execute_result",
          "data": {
            "text/plain": [
              "   Unnamed: 0                                 review_description  rating  \\\n",
              "0           0                                               رائع       1   \n",
              "1           1  برنامج رائع جدا يساعد على تلبيه الاحتياجات بشك...       1   \n",
              "2           2  التطبيق لا يغتح دائما بيعطيني لا يوجد اتصال با...      -1   \n",
              "3           3                 لماذا لا يمكننا طلب من ماكدونالدز؟      -1   \n",
              "4           4  البرنامج بيظهر كل المطاعم و مغلقه مع انها بتكو...      -1   \n",
              "\n",
              "  company  \n",
              "0  talbat  \n",
              "1  talbat  \n",
              "2  talbat  \n",
              "3  talbat  \n",
              "4  talbat  "
            ],
            "text/html": [
              "\n",
              "  <div id=\"df-67f012fd-7cf1-4798-9707-131cf39f9b98\" class=\"colab-df-container\">\n",
              "    <div>\n",
              "<style scoped>\n",
              "    .dataframe tbody tr th:only-of-type {\n",
              "        vertical-align: middle;\n",
              "    }\n",
              "\n",
              "    .dataframe tbody tr th {\n",
              "        vertical-align: top;\n",
              "    }\n",
              "\n",
              "    .dataframe thead th {\n",
              "        text-align: right;\n",
              "    }\n",
              "</style>\n",
              "<table border=\"1\" class=\"dataframe\">\n",
              "  <thead>\n",
              "    <tr style=\"text-align: right;\">\n",
              "      <th></th>\n",
              "      <th>Unnamed: 0</th>\n",
              "      <th>review_description</th>\n",
              "      <th>rating</th>\n",
              "      <th>company</th>\n",
              "    </tr>\n",
              "  </thead>\n",
              "  <tbody>\n",
              "    <tr>\n",
              "      <th>0</th>\n",
              "      <td>0</td>\n",
              "      <td>رائع</td>\n",
              "      <td>1</td>\n",
              "      <td>talbat</td>\n",
              "    </tr>\n",
              "    <tr>\n",
              "      <th>1</th>\n",
              "      <td>1</td>\n",
              "      <td>برنامج رائع جدا يساعد على تلبيه الاحتياجات بشك...</td>\n",
              "      <td>1</td>\n",
              "      <td>talbat</td>\n",
              "    </tr>\n",
              "    <tr>\n",
              "      <th>2</th>\n",
              "      <td>2</td>\n",
              "      <td>التطبيق لا يغتح دائما بيعطيني لا يوجد اتصال با...</td>\n",
              "      <td>-1</td>\n",
              "      <td>talbat</td>\n",
              "    </tr>\n",
              "    <tr>\n",
              "      <th>3</th>\n",
              "      <td>3</td>\n",
              "      <td>لماذا لا يمكننا طلب من ماكدونالدز؟</td>\n",
              "      <td>-1</td>\n",
              "      <td>talbat</td>\n",
              "    </tr>\n",
              "    <tr>\n",
              "      <th>4</th>\n",
              "      <td>4</td>\n",
              "      <td>البرنامج بيظهر كل المطاعم و مغلقه مع انها بتكو...</td>\n",
              "      <td>-1</td>\n",
              "      <td>talbat</td>\n",
              "    </tr>\n",
              "  </tbody>\n",
              "</table>\n",
              "</div>\n",
              "    <div class=\"colab-df-buttons\">\n",
              "\n",
              "  <div class=\"colab-df-container\">\n",
              "    <button class=\"colab-df-convert\" onclick=\"convertToInteractive('df-67f012fd-7cf1-4798-9707-131cf39f9b98')\"\n",
              "            title=\"Convert this dataframe to an interactive table.\"\n",
              "            style=\"display:none;\">\n",
              "\n",
              "  <svg xmlns=\"http://www.w3.org/2000/svg\" height=\"24px\" viewBox=\"0 -960 960 960\">\n",
              "    <path d=\"M120-120v-720h720v720H120Zm60-500h600v-160H180v160Zm220 220h160v-160H400v160Zm0 220h160v-160H400v160ZM180-400h160v-160H180v160Zm440 0h160v-160H620v160ZM180-180h160v-160H180v160Zm440 0h160v-160H620v160Z\"/>\n",
              "  </svg>\n",
              "    </button>\n",
              "\n",
              "  <style>\n",
              "    .colab-df-container {\n",
              "      display:flex;\n",
              "      gap: 12px;\n",
              "    }\n",
              "\n",
              "    .colab-df-convert {\n",
              "      background-color: #E8F0FE;\n",
              "      border: none;\n",
              "      border-radius: 50%;\n",
              "      cursor: pointer;\n",
              "      display: none;\n",
              "      fill: #1967D2;\n",
              "      height: 32px;\n",
              "      padding: 0 0 0 0;\n",
              "      width: 32px;\n",
              "    }\n",
              "\n",
              "    .colab-df-convert:hover {\n",
              "      background-color: #E2EBFA;\n",
              "      box-shadow: 0px 1px 2px rgba(60, 64, 67, 0.3), 0px 1px 3px 1px rgba(60, 64, 67, 0.15);\n",
              "      fill: #174EA6;\n",
              "    }\n",
              "\n",
              "    .colab-df-buttons div {\n",
              "      margin-bottom: 4px;\n",
              "    }\n",
              "\n",
              "    [theme=dark] .colab-df-convert {\n",
              "      background-color: #3B4455;\n",
              "      fill: #D2E3FC;\n",
              "    }\n",
              "\n",
              "    [theme=dark] .colab-df-convert:hover {\n",
              "      background-color: #434B5C;\n",
              "      box-shadow: 0px 1px 3px 1px rgba(0, 0, 0, 0.15);\n",
              "      filter: drop-shadow(0px 1px 2px rgba(0, 0, 0, 0.3));\n",
              "      fill: #FFFFFF;\n",
              "    }\n",
              "  </style>\n",
              "\n",
              "    <script>\n",
              "      const buttonEl =\n",
              "        document.querySelector('#df-67f012fd-7cf1-4798-9707-131cf39f9b98 button.colab-df-convert');\n",
              "      buttonEl.style.display =\n",
              "        google.colab.kernel.accessAllowed ? 'block' : 'none';\n",
              "\n",
              "      async function convertToInteractive(key) {\n",
              "        const element = document.querySelector('#df-67f012fd-7cf1-4798-9707-131cf39f9b98');\n",
              "        const dataTable =\n",
              "          await google.colab.kernel.invokeFunction('convertToInteractive',\n",
              "                                                    [key], {});\n",
              "        if (!dataTable) return;\n",
              "\n",
              "        const docLinkHtml = 'Like what you see? Visit the ' +\n",
              "          '<a target=\"_blank\" href=https://colab.research.google.com/notebooks/data_table.ipynb>data table notebook</a>'\n",
              "          + ' to learn more about interactive tables.';\n",
              "        element.innerHTML = '';\n",
              "        dataTable['output_type'] = 'display_data';\n",
              "        await google.colab.output.renderOutput(dataTable, element);\n",
              "        const docLink = document.createElement('div');\n",
              "        docLink.innerHTML = docLinkHtml;\n",
              "        element.appendChild(docLink);\n",
              "      }\n",
              "    </script>\n",
              "  </div>\n",
              "\n",
              "\n",
              "    <div id=\"df-5d558a40-93be-4b5a-b02a-aee36a07fa3b\">\n",
              "      <button class=\"colab-df-quickchart\" onclick=\"quickchart('df-5d558a40-93be-4b5a-b02a-aee36a07fa3b')\"\n",
              "                title=\"Suggest charts\"\n",
              "                style=\"display:none;\">\n",
              "\n",
              "<svg xmlns=\"http://www.w3.org/2000/svg\" height=\"24px\"viewBox=\"0 0 24 24\"\n",
              "     width=\"24px\">\n",
              "    <g>\n",
              "        <path d=\"M19 3H5c-1.1 0-2 .9-2 2v14c0 1.1.9 2 2 2h14c1.1 0 2-.9 2-2V5c0-1.1-.9-2-2-2zM9 17H7v-7h2v7zm4 0h-2V7h2v10zm4 0h-2v-4h2v4z\"/>\n",
              "    </g>\n",
              "</svg>\n",
              "      </button>\n",
              "\n",
              "<style>\n",
              "  .colab-df-quickchart {\n",
              "      --bg-color: #E8F0FE;\n",
              "      --fill-color: #1967D2;\n",
              "      --hover-bg-color: #E2EBFA;\n",
              "      --hover-fill-color: #174EA6;\n",
              "      --disabled-fill-color: #AAA;\n",
              "      --disabled-bg-color: #DDD;\n",
              "  }\n",
              "\n",
              "  [theme=dark] .colab-df-quickchart {\n",
              "      --bg-color: #3B4455;\n",
              "      --fill-color: #D2E3FC;\n",
              "      --hover-bg-color: #434B5C;\n",
              "      --hover-fill-color: #FFFFFF;\n",
              "      --disabled-bg-color: #3B4455;\n",
              "      --disabled-fill-color: #666;\n",
              "  }\n",
              "\n",
              "  .colab-df-quickchart {\n",
              "    background-color: var(--bg-color);\n",
              "    border: none;\n",
              "    border-radius: 50%;\n",
              "    cursor: pointer;\n",
              "    display: none;\n",
              "    fill: var(--fill-color);\n",
              "    height: 32px;\n",
              "    padding: 0;\n",
              "    width: 32px;\n",
              "  }\n",
              "\n",
              "  .colab-df-quickchart:hover {\n",
              "    background-color: var(--hover-bg-color);\n",
              "    box-shadow: 0 1px 2px rgba(60, 64, 67, 0.3), 0 1px 3px 1px rgba(60, 64, 67, 0.15);\n",
              "    fill: var(--button-hover-fill-color);\n",
              "  }\n",
              "\n",
              "  .colab-df-quickchart-complete:disabled,\n",
              "  .colab-df-quickchart-complete:disabled:hover {\n",
              "    background-color: var(--disabled-bg-color);\n",
              "    fill: var(--disabled-fill-color);\n",
              "    box-shadow: none;\n",
              "  }\n",
              "\n",
              "  .colab-df-spinner {\n",
              "    border: 2px solid var(--fill-color);\n",
              "    border-color: transparent;\n",
              "    border-bottom-color: var(--fill-color);\n",
              "    animation:\n",
              "      spin 1s steps(1) infinite;\n",
              "  }\n",
              "\n",
              "  @keyframes spin {\n",
              "    0% {\n",
              "      border-color: transparent;\n",
              "      border-bottom-color: var(--fill-color);\n",
              "      border-left-color: var(--fill-color);\n",
              "    }\n",
              "    20% {\n",
              "      border-color: transparent;\n",
              "      border-left-color: var(--fill-color);\n",
              "      border-top-color: var(--fill-color);\n",
              "    }\n",
              "    30% {\n",
              "      border-color: transparent;\n",
              "      border-left-color: var(--fill-color);\n",
              "      border-top-color: var(--fill-color);\n",
              "      border-right-color: var(--fill-color);\n",
              "    }\n",
              "    40% {\n",
              "      border-color: transparent;\n",
              "      border-right-color: var(--fill-color);\n",
              "      border-top-color: var(--fill-color);\n",
              "    }\n",
              "    60% {\n",
              "      border-color: transparent;\n",
              "      border-right-color: var(--fill-color);\n",
              "    }\n",
              "    80% {\n",
              "      border-color: transparent;\n",
              "      border-right-color: var(--fill-color);\n",
              "      border-bottom-color: var(--fill-color);\n",
              "    }\n",
              "    90% {\n",
              "      border-color: transparent;\n",
              "      border-bottom-color: var(--fill-color);\n",
              "    }\n",
              "  }\n",
              "</style>\n",
              "\n",
              "      <script>\n",
              "        async function quickchart(key) {\n",
              "          const quickchartButtonEl =\n",
              "            document.querySelector('#' + key + ' button');\n",
              "          quickchartButtonEl.disabled = true;  // To prevent multiple clicks.\n",
              "          quickchartButtonEl.classList.add('colab-df-spinner');\n",
              "          try {\n",
              "            const charts = await google.colab.kernel.invokeFunction(\n",
              "                'suggestCharts', [key], {});\n",
              "          } catch (error) {\n",
              "            console.error('Error during call to suggestCharts:', error);\n",
              "          }\n",
              "          quickchartButtonEl.classList.remove('colab-df-spinner');\n",
              "          quickchartButtonEl.classList.add('colab-df-quickchart-complete');\n",
              "        }\n",
              "        (() => {\n",
              "          let quickchartButtonEl =\n",
              "            document.querySelector('#df-5d558a40-93be-4b5a-b02a-aee36a07fa3b button');\n",
              "          quickchartButtonEl.style.display =\n",
              "            google.colab.kernel.accessAllowed ? 'block' : 'none';\n",
              "        })();\n",
              "      </script>\n",
              "    </div>\n",
              "\n",
              "    </div>\n",
              "  </div>\n"
            ],
            "application/vnd.google.colaboratory.intrinsic+json": {
              "type": "dataframe",
              "variable_name": "df",
              "summary": "{\n  \"name\": \"df\",\n  \"rows\": 40046,\n  \"fields\": [\n    {\n      \"column\": \"Unnamed: 0\",\n      \"properties\": {\n        \"dtype\": \"number\",\n        \"std\": 11553,\n        \"min\": 0,\n        \"max\": 39540,\n        \"num_unique_values\": 39541,\n        \"samples\": [\n          36701,\n          36873,\n          10182\n        ],\n        \"semantic_type\": \"\",\n        \"description\": \"\"\n      }\n    },\n    {\n      \"column\": \"review_description\",\n      \"properties\": {\n        \"dtype\": \"string\",\n        \"num_unique_values\": 39003,\n        \"samples\": [\n          \"\\u0644\\u064a\\u0647 \\u0645\\u0627 \\u0641\\u064a\\u0634 \\u062a\\u0648\\u0635\\u064a\\u0644 \\u0641\\u064a \\u0628\\u0648\\u0644\\u0627\\u0642 \\u0627\\u0644\\u062f\\u0643\\u0631\\u0648\\u0631 \\u0644\\u0645\\u0637\\u0627\\u0639\\u0645 \\u0643\\u062b\\u064a\\u0631\",\n          \"\\u0633\\u0631\\u0639\\u0629 \\u0627\\u0644\\u062a\\u0648\\u0635\\u064a\\u0644 \\u0645\\u0645\\u062a\\u0627\\u0632\\u0629\",\n          \"\\u062a\\u0637\\u0628\\u064a\\u0642 \\u0645\\u0645\\u062a\\u0627\\u0632 \\u0648\\u0633\\u0647\\u0644 \\u0634\\u0643\\u0631\\u0627\"\n        ],\n        \"semantic_type\": \"\",\n        \"description\": \"\"\n      }\n    },\n    {\n      \"column\": \"rating\",\n      \"properties\": {\n        \"dtype\": \"number\",\n        \"std\": 0,\n        \"min\": -1,\n        \"max\": 1,\n        \"num_unique_values\": 3,\n        \"samples\": [\n          1,\n          -1,\n          0\n        ],\n        \"semantic_type\": \"\",\n        \"description\": \"\"\n      }\n    },\n    {\n      \"column\": \"company\",\n      \"properties\": {\n        \"dtype\": \"category\",\n        \"num_unique_values\": 12,\n        \"samples\": [\n          \"TMG\",\n          \"capiter\",\n          \"talbat\"\n        ],\n        \"semantic_type\": \"\",\n        \"description\": \"\"\n      }\n    }\n  ]\n}"
            }
          },
          "metadata": {},
          "execution_count": 2
        }
      ]
    },
    {
      "cell_type": "code",
      "source": [
        "import re\n",
        "\n",
        "# Regex: Arabic Unicode block\n",
        "arabic_pattern = re.compile(r'[\\u0600-\\u06FF]')\n",
        "\n",
        "# Keep rows that DO NOT contain Arabic\n",
        "df_no_arabic = df[~df[\"review_description\"].apply(lambda x: bool(arabic_pattern.search(str(x))))].reset_index(drop=True)\n",
        "\n",
        "print(df_no_arabic.head())\n"
      ],
      "metadata": {
        "colab": {
          "base_uri": "https://localhost:8080/"
        },
        "id": "jU5QuaGvd18L",
        "outputId": "5890f7ae-2cfc-4804-e182-cb6b06580857"
      },
      "execution_count": 3,
      "outputs": [
        {
          "output_type": "stream",
          "name": "stdout",
          "text": [
            "   Unnamed: 0       review_description  rating company\n",
            "0          44                        👎      -1  talbat\n",
            "1          67  Wo 🙌🙌💋💋💋💋💋💋💙💙💙❤❤💖💖💖👍👍👍👌       1  talbat\n",
            "2          73                3w2d32d32       0  talbat\n",
            "3          79                       👍👏       1  talbat\n",
            "4          81                      ugg       1  talbat\n"
          ]
        }
      ]
    },
    {
      "cell_type": "code",
      "source": [
        "df = df[df[\"review_description\"].apply(lambda x: bool(arabic_pattern.search(str(x))))].reset_index(drop=True)"
      ],
      "metadata": {
        "id": "HQ0hgmZml87C"
      },
      "execution_count": 4,
      "outputs": []
    },
    {
      "cell_type": "code",
      "source": [
        "df.info()"
      ],
      "metadata": {
        "colab": {
          "base_uri": "https://localhost:8080/"
        },
        "id": "0XaF42emSbgN",
        "outputId": "b8e39f78-a873-40e5-f3d1-1f03c66950ff"
      },
      "execution_count": 5,
      "outputs": [
        {
          "output_type": "stream",
          "name": "stdout",
          "text": [
            "<class 'pandas.core.frame.DataFrame'>\n",
            "RangeIndex: 38100 entries, 0 to 38099\n",
            "Data columns (total 4 columns):\n",
            " #   Column              Non-Null Count  Dtype \n",
            "---  ------              --------------  ----- \n",
            " 0   Unnamed: 0          38100 non-null  int64 \n",
            " 1   review_description  38100 non-null  object\n",
            " 2   rating              38100 non-null  int64 \n",
            " 3   company             38100 non-null  object\n",
            "dtypes: int64(2), object(2)\n",
            "memory usage: 1.2+ MB\n"
          ]
        }
      ]
    },
    {
      "cell_type": "code",
      "source": [
        "df.duplicated().sum()"
      ],
      "metadata": {
        "colab": {
          "base_uri": "https://localhost:8080/"
        },
        "id": "o5XYyBgkSboC",
        "outputId": "8d968133-167f-474f-910d-0caca17abcb8"
      },
      "execution_count": 6,
      "outputs": [
        {
          "output_type": "execute_result",
          "data": {
            "text/plain": [
              "0"
            ]
          },
          "metadata": {},
          "execution_count": 6
        }
      ]
    },
    {
      "cell_type": "code",
      "source": [
        "df = df[df['rating'] != 0].reset_index(drop=True)\n",
        "df['rating'].value_counts(), df['company'].value_counts()"
      ],
      "metadata": {
        "colab": {
          "base_uri": "https://localhost:8080/"
        },
        "id": "G1ydN5NoSbwB",
        "outputId": "f2506637-8100-4477-b33f-24a742653751"
      },
      "execution_count": 7,
      "outputs": [
        {
          "output_type": "execute_result",
          "data": {
            "text/plain": [
              "(rating\n",
              "  1    22349\n",
              " -1    13874\n",
              " Name: count, dtype: int64,\n",
              " company\n",
              " talbat           29007\n",
              " swvl              4202\n",
              " telecom_egypt     1901\n",
              " venus              263\n",
              " Raya               252\n",
              " TMG                232\n",
              " elsewedy           140\n",
              " hilton              94\n",
              " capiter             70\n",
              " Ezz Steel           42\n",
              " nestle              17\n",
              " domty                3\n",
              " Name: count, dtype: int64)"
            ]
          },
          "metadata": {},
          "execution_count": 7
        }
      ]
    },
    {
      "cell_type": "code",
      "source": [],
      "metadata": {
        "id": "THpfi63NnMks"
      },
      "execution_count": 7,
      "outputs": []
    },
    {
      "cell_type": "code",
      "source": [
        "# !pip install langdetect\n",
        "# !pip install googletrans==4.0.0-rc1"
      ],
      "metadata": {
        "id": "jAaLxQKMYv3e"
      },
      "execution_count": 8,
      "outputs": []
    },
    {
      "cell_type": "code",
      "source": [
        "# from langdetect import detect\n",
        "# from googletrans import Translator\n",
        "\n",
        "# def translate_if_not_arabic(text):\n",
        "#     try:\n",
        "#         if detect(text) != \"ar\":\n",
        "#             translator = Translator()\n",
        "#             text = translator.translate(text, src=\"auto\", dest=\"ar\").text\n",
        "#     except:\n",
        "#         pass\n",
        "#     return text"
      ],
      "metadata": {
        "id": "LJPzql2FWqLl"
      },
      "execution_count": 9,
      "outputs": []
    },
    {
      "cell_type": "code",
      "source": [
        "def normalize_franco(text):\n",
        "    FRANCO_DICT = {\n",
        "        \"2\": \"أ\", \"3\": \"ع\", \"4\": \"غ\", \"5\": \"خ\",\n",
        "        \"6\": \"ط\", \"7\": \"ح\", \"8\": \"ق\", \"9\": \"ص\"\n",
        "    }\n",
        "    for k, v in FRANCO_DICT.items():\n",
        "        text = re.sub(k, v, text)\n",
        "    return text"
      ],
      "metadata": {
        "id": "qugwXyGjWwKW"
      },
      "execution_count": 10,
      "outputs": []
    },
    {
      "cell_type": "code",
      "source": [
        "def normalize_arabic(text):\n",
        "    text = re.sub(\"[إأآا]\", \"ا\", text)\n",
        "    text = re.sub(\"ى\", \"ي\", text)\n",
        "    text = re.sub(\"ؤ\", \"ء\", text)\n",
        "    text = re.sub('ؤ', 'و', text)\n",
        "    text = re.sub(\"ئ\", \"ء\", text)\n",
        "    text = re.sub(\"ة\", \"ه\", text)\n",
        "    text = re.sub(r'(.)\\1+', r'\\1\\1', text)\n",
        "    return text"
      ],
      "metadata": {
        "id": "vRB3qHKTT9sy"
      },
      "execution_count": 11,
      "outputs": []
    },
    {
      "cell_type": "code",
      "source": [
        "# !pip install pyarabic\n",
        "# !pip install emoji"
      ],
      "metadata": {
        "id": "c9PwfZXxZLbp"
      },
      "execution_count": 12,
      "outputs": []
    },
    {
      "cell_type": "code",
      "source": [
        "import pyarabic.araby as araby\n",
        "import string, emoji\n",
        "\n",
        "def clean_text(text):\n",
        "    text = araby.strip_tashkeel(text)\n",
        "    text = re.sub(r\"[A-Za-z0-9]\", \" \", text)  # Latin + digits\n",
        "    text = re.sub(rf\"[{string.punctuation}]\", \" \", text)  # punctuation\n",
        "    text = emoji.replace_emoji(text, replace=\"\")  # remove emojis\n",
        "    text = re.sub(r\"\\s+\", \" \", text).strip()  # extra spaces\n",
        "    return text"
      ],
      "metadata": {
        "id": "a-tsRxZvT90a"
      },
      "execution_count": 13,
      "outputs": []
    },
    {
      "cell_type": "code",
      "source": [
        "import nltk\n",
        "from nltk.corpus import stopwords\n",
        "\n",
        "def remove_stopwords(tokens):\n",
        "    nltk.download(\"stopwords\", quiet=True)\n",
        "    stop_words = set(stopwords.words(\"arabic\"))\n",
        "    tokens = [w for w in tokens if w not in stop_words]\n",
        "    return tokens"
      ],
      "metadata": {
        "id": "5rVHeL6PT97I"
      },
      "execution_count": 14,
      "outputs": []
    },
    {
      "cell_type": "code",
      "source": [
        "# !pip install qalsadi"
      ],
      "metadata": {
        "id": "CO3arsP25JYA"
      },
      "execution_count": 15,
      "outputs": []
    },
    {
      "cell_type": "code",
      "source": [
        "from nltk.stem.isri import ISRIStemmer\n",
        "\n",
        "def stem_tokens(tokens):\n",
        "    stemmer = ISRIStemmer()\n",
        "    return [stemmer.stem(w) for w in tokens]"
      ],
      "metadata": {
        "id": "vCKbtdz2T-H9"
      },
      "execution_count": 16,
      "outputs": []
    },
    {
      "cell_type": "code",
      "source": [
        "def arabic_preprocess(text, translate=True, use_stemming=True):\n",
        "    # if not isinstance(text, str):\n",
        "    #     return \"\"\n",
        "\n",
        "    # if translate:\n",
        "    #     text = translate_if_not_arabic(text)\n",
        "\n",
        "    text = normalize_franco(text)\n",
        "    text = normalize_arabic(text)\n",
        "    text = clean_text(text)\n",
        "\n",
        "    tokens = text.split()\n",
        "    tokens = remove_stopwords(tokens)\n",
        "\n",
        "    if use_stemming:\n",
        "        tokens = stem_tokens(tokens)\n",
        "\n",
        "    return tokens"
      ],
      "metadata": {
        "id": "yUpu1ANbXcre"
      },
      "execution_count": 17,
      "outputs": []
    },
    {
      "cell_type": "code",
      "source": [
        "df[\"review_description\"] = df[\"review_description\"].astype(str).apply(arabic_preprocess)\n",
        "df.head()"
      ],
      "metadata": {
        "colab": {
          "base_uri": "https://localhost:8080/",
          "height": 206
        },
        "id": "OvCvkCLsXczT",
        "outputId": "2ada128f-e5e9-44b1-89ac-5e4ac098cda0"
      },
      "execution_count": 18,
      "outputs": [
        {
          "output_type": "execute_result",
          "data": {
            "text/plain": [
              "   Unnamed: 0                                 review_description  rating  \\\n",
              "0           0                                              [رءع]       1   \n",
              "1           1     [رنمج, رءع, جدا, سعد, علي, لبه, حيج, شكل, سرع]       1   \n",
              "2           2  [طبق, غتح, داء, يعط, وجد, تصل, شبك, انه, الن, ...      -1   \n",
              "3           3                       [لمذ, يمك, طلب, ماكدونالدز؟]      -1   \n",
              "4           4  [رنمج, ظهر, طعم, غلق, انه, بتك, فتح, بقل, كده,...      -1   \n",
              "\n",
              "  company  \n",
              "0  talbat  \n",
              "1  talbat  \n",
              "2  talbat  \n",
              "3  talbat  \n",
              "4  talbat  "
            ],
            "text/html": [
              "\n",
              "  <div id=\"df-c3289d0d-c89b-45d1-998a-9ce55f584681\" class=\"colab-df-container\">\n",
              "    <div>\n",
              "<style scoped>\n",
              "    .dataframe tbody tr th:only-of-type {\n",
              "        vertical-align: middle;\n",
              "    }\n",
              "\n",
              "    .dataframe tbody tr th {\n",
              "        vertical-align: top;\n",
              "    }\n",
              "\n",
              "    .dataframe thead th {\n",
              "        text-align: right;\n",
              "    }\n",
              "</style>\n",
              "<table border=\"1\" class=\"dataframe\">\n",
              "  <thead>\n",
              "    <tr style=\"text-align: right;\">\n",
              "      <th></th>\n",
              "      <th>Unnamed: 0</th>\n",
              "      <th>review_description</th>\n",
              "      <th>rating</th>\n",
              "      <th>company</th>\n",
              "    </tr>\n",
              "  </thead>\n",
              "  <tbody>\n",
              "    <tr>\n",
              "      <th>0</th>\n",
              "      <td>0</td>\n",
              "      <td>[رءع]</td>\n",
              "      <td>1</td>\n",
              "      <td>talbat</td>\n",
              "    </tr>\n",
              "    <tr>\n",
              "      <th>1</th>\n",
              "      <td>1</td>\n",
              "      <td>[رنمج, رءع, جدا, سعد, علي, لبه, حيج, شكل, سرع]</td>\n",
              "      <td>1</td>\n",
              "      <td>talbat</td>\n",
              "    </tr>\n",
              "    <tr>\n",
              "      <th>2</th>\n",
              "      <td>2</td>\n",
              "      <td>[طبق, غتح, داء, يعط, وجد, تصل, شبك, انه, الن, ...</td>\n",
              "      <td>-1</td>\n",
              "      <td>talbat</td>\n",
              "    </tr>\n",
              "    <tr>\n",
              "      <th>3</th>\n",
              "      <td>3</td>\n",
              "      <td>[لمذ, يمك, طلب, ماكدونالدز؟]</td>\n",
              "      <td>-1</td>\n",
              "      <td>talbat</td>\n",
              "    </tr>\n",
              "    <tr>\n",
              "      <th>4</th>\n",
              "      <td>4</td>\n",
              "      <td>[رنمج, ظهر, طعم, غلق, انه, بتك, فتح, بقل, كده,...</td>\n",
              "      <td>-1</td>\n",
              "      <td>talbat</td>\n",
              "    </tr>\n",
              "  </tbody>\n",
              "</table>\n",
              "</div>\n",
              "    <div class=\"colab-df-buttons\">\n",
              "\n",
              "  <div class=\"colab-df-container\">\n",
              "    <button class=\"colab-df-convert\" onclick=\"convertToInteractive('df-c3289d0d-c89b-45d1-998a-9ce55f584681')\"\n",
              "            title=\"Convert this dataframe to an interactive table.\"\n",
              "            style=\"display:none;\">\n",
              "\n",
              "  <svg xmlns=\"http://www.w3.org/2000/svg\" height=\"24px\" viewBox=\"0 -960 960 960\">\n",
              "    <path d=\"M120-120v-720h720v720H120Zm60-500h600v-160H180v160Zm220 220h160v-160H400v160Zm0 220h160v-160H400v160ZM180-400h160v-160H180v160Zm440 0h160v-160H620v160ZM180-180h160v-160H180v160Zm440 0h160v-160H620v160Z\"/>\n",
              "  </svg>\n",
              "    </button>\n",
              "\n",
              "  <style>\n",
              "    .colab-df-container {\n",
              "      display:flex;\n",
              "      gap: 12px;\n",
              "    }\n",
              "\n",
              "    .colab-df-convert {\n",
              "      background-color: #E8F0FE;\n",
              "      border: none;\n",
              "      border-radius: 50%;\n",
              "      cursor: pointer;\n",
              "      display: none;\n",
              "      fill: #1967D2;\n",
              "      height: 32px;\n",
              "      padding: 0 0 0 0;\n",
              "      width: 32px;\n",
              "    }\n",
              "\n",
              "    .colab-df-convert:hover {\n",
              "      background-color: #E2EBFA;\n",
              "      box-shadow: 0px 1px 2px rgba(60, 64, 67, 0.3), 0px 1px 3px 1px rgba(60, 64, 67, 0.15);\n",
              "      fill: #174EA6;\n",
              "    }\n",
              "\n",
              "    .colab-df-buttons div {\n",
              "      margin-bottom: 4px;\n",
              "    }\n",
              "\n",
              "    [theme=dark] .colab-df-convert {\n",
              "      background-color: #3B4455;\n",
              "      fill: #D2E3FC;\n",
              "    }\n",
              "\n",
              "    [theme=dark] .colab-df-convert:hover {\n",
              "      background-color: #434B5C;\n",
              "      box-shadow: 0px 1px 3px 1px rgba(0, 0, 0, 0.15);\n",
              "      filter: drop-shadow(0px 1px 2px rgba(0, 0, 0, 0.3));\n",
              "      fill: #FFFFFF;\n",
              "    }\n",
              "  </style>\n",
              "\n",
              "    <script>\n",
              "      const buttonEl =\n",
              "        document.querySelector('#df-c3289d0d-c89b-45d1-998a-9ce55f584681 button.colab-df-convert');\n",
              "      buttonEl.style.display =\n",
              "        google.colab.kernel.accessAllowed ? 'block' : 'none';\n",
              "\n",
              "      async function convertToInteractive(key) {\n",
              "        const element = document.querySelector('#df-c3289d0d-c89b-45d1-998a-9ce55f584681');\n",
              "        const dataTable =\n",
              "          await google.colab.kernel.invokeFunction('convertToInteractive',\n",
              "                                                    [key], {});\n",
              "        if (!dataTable) return;\n",
              "\n",
              "        const docLinkHtml = 'Like what you see? Visit the ' +\n",
              "          '<a target=\"_blank\" href=https://colab.research.google.com/notebooks/data_table.ipynb>data table notebook</a>'\n",
              "          + ' to learn more about interactive tables.';\n",
              "        element.innerHTML = '';\n",
              "        dataTable['output_type'] = 'display_data';\n",
              "        await google.colab.output.renderOutput(dataTable, element);\n",
              "        const docLink = document.createElement('div');\n",
              "        docLink.innerHTML = docLinkHtml;\n",
              "        element.appendChild(docLink);\n",
              "      }\n",
              "    </script>\n",
              "  </div>\n",
              "\n",
              "\n",
              "    <div id=\"df-c44cf041-83ad-4262-8d39-c5f24eb219cf\">\n",
              "      <button class=\"colab-df-quickchart\" onclick=\"quickchart('df-c44cf041-83ad-4262-8d39-c5f24eb219cf')\"\n",
              "                title=\"Suggest charts\"\n",
              "                style=\"display:none;\">\n",
              "\n",
              "<svg xmlns=\"http://www.w3.org/2000/svg\" height=\"24px\"viewBox=\"0 0 24 24\"\n",
              "     width=\"24px\">\n",
              "    <g>\n",
              "        <path d=\"M19 3H5c-1.1 0-2 .9-2 2v14c0 1.1.9 2 2 2h14c1.1 0 2-.9 2-2V5c0-1.1-.9-2-2-2zM9 17H7v-7h2v7zm4 0h-2V7h2v10zm4 0h-2v-4h2v4z\"/>\n",
              "    </g>\n",
              "</svg>\n",
              "      </button>\n",
              "\n",
              "<style>\n",
              "  .colab-df-quickchart {\n",
              "      --bg-color: #E8F0FE;\n",
              "      --fill-color: #1967D2;\n",
              "      --hover-bg-color: #E2EBFA;\n",
              "      --hover-fill-color: #174EA6;\n",
              "      --disabled-fill-color: #AAA;\n",
              "      --disabled-bg-color: #DDD;\n",
              "  }\n",
              "\n",
              "  [theme=dark] .colab-df-quickchart {\n",
              "      --bg-color: #3B4455;\n",
              "      --fill-color: #D2E3FC;\n",
              "      --hover-bg-color: #434B5C;\n",
              "      --hover-fill-color: #FFFFFF;\n",
              "      --disabled-bg-color: #3B4455;\n",
              "      --disabled-fill-color: #666;\n",
              "  }\n",
              "\n",
              "  .colab-df-quickchart {\n",
              "    background-color: var(--bg-color);\n",
              "    border: none;\n",
              "    border-radius: 50%;\n",
              "    cursor: pointer;\n",
              "    display: none;\n",
              "    fill: var(--fill-color);\n",
              "    height: 32px;\n",
              "    padding: 0;\n",
              "    width: 32px;\n",
              "  }\n",
              "\n",
              "  .colab-df-quickchart:hover {\n",
              "    background-color: var(--hover-bg-color);\n",
              "    box-shadow: 0 1px 2px rgba(60, 64, 67, 0.3), 0 1px 3px 1px rgba(60, 64, 67, 0.15);\n",
              "    fill: var(--button-hover-fill-color);\n",
              "  }\n",
              "\n",
              "  .colab-df-quickchart-complete:disabled,\n",
              "  .colab-df-quickchart-complete:disabled:hover {\n",
              "    background-color: var(--disabled-bg-color);\n",
              "    fill: var(--disabled-fill-color);\n",
              "    box-shadow: none;\n",
              "  }\n",
              "\n",
              "  .colab-df-spinner {\n",
              "    border: 2px solid var(--fill-color);\n",
              "    border-color: transparent;\n",
              "    border-bottom-color: var(--fill-color);\n",
              "    animation:\n",
              "      spin 1s steps(1) infinite;\n",
              "  }\n",
              "\n",
              "  @keyframes spin {\n",
              "    0% {\n",
              "      border-color: transparent;\n",
              "      border-bottom-color: var(--fill-color);\n",
              "      border-left-color: var(--fill-color);\n",
              "    }\n",
              "    20% {\n",
              "      border-color: transparent;\n",
              "      border-left-color: var(--fill-color);\n",
              "      border-top-color: var(--fill-color);\n",
              "    }\n",
              "    30% {\n",
              "      border-color: transparent;\n",
              "      border-left-color: var(--fill-color);\n",
              "      border-top-color: var(--fill-color);\n",
              "      border-right-color: var(--fill-color);\n",
              "    }\n",
              "    40% {\n",
              "      border-color: transparent;\n",
              "      border-right-color: var(--fill-color);\n",
              "      border-top-color: var(--fill-color);\n",
              "    }\n",
              "    60% {\n",
              "      border-color: transparent;\n",
              "      border-right-color: var(--fill-color);\n",
              "    }\n",
              "    80% {\n",
              "      border-color: transparent;\n",
              "      border-right-color: var(--fill-color);\n",
              "      border-bottom-color: var(--fill-color);\n",
              "    }\n",
              "    90% {\n",
              "      border-color: transparent;\n",
              "      border-bottom-color: var(--fill-color);\n",
              "    }\n",
              "  }\n",
              "</style>\n",
              "\n",
              "      <script>\n",
              "        async function quickchart(key) {\n",
              "          const quickchartButtonEl =\n",
              "            document.querySelector('#' + key + ' button');\n",
              "          quickchartButtonEl.disabled = true;  // To prevent multiple clicks.\n",
              "          quickchartButtonEl.classList.add('colab-df-spinner');\n",
              "          try {\n",
              "            const charts = await google.colab.kernel.invokeFunction(\n",
              "                'suggestCharts', [key], {});\n",
              "          } catch (error) {\n",
              "            console.error('Error during call to suggestCharts:', error);\n",
              "          }\n",
              "          quickchartButtonEl.classList.remove('colab-df-spinner');\n",
              "          quickchartButtonEl.classList.add('colab-df-quickchart-complete');\n",
              "        }\n",
              "        (() => {\n",
              "          let quickchartButtonEl =\n",
              "            document.querySelector('#df-c44cf041-83ad-4262-8d39-c5f24eb219cf button');\n",
              "          quickchartButtonEl.style.display =\n",
              "            google.colab.kernel.accessAllowed ? 'block' : 'none';\n",
              "        })();\n",
              "      </script>\n",
              "    </div>\n",
              "\n",
              "    </div>\n",
              "  </div>\n"
            ],
            "application/vnd.google.colaboratory.intrinsic+json": {
              "type": "dataframe",
              "variable_name": "df",
              "summary": "{\n  \"name\": \"df\",\n  \"rows\": 36223,\n  \"fields\": [\n    {\n      \"column\": \"Unnamed: 0\",\n      \"properties\": {\n        \"dtype\": \"number\",\n        \"std\": 11552,\n        \"min\": 0,\n        \"max\": 39540,\n        \"num_unique_values\": 35797,\n        \"samples\": [\n          10642,\n          37996,\n          19205\n        ],\n        \"semantic_type\": \"\",\n        \"description\": \"\"\n      }\n    },\n    {\n      \"column\": \"review_description\",\n      \"properties\": {\n        \"dtype\": \"object\",\n        \"semantic_type\": \"\",\n        \"description\": \"\"\n      }\n    },\n    {\n      \"column\": \"rating\",\n      \"properties\": {\n        \"dtype\": \"number\",\n        \"std\": 0,\n        \"min\": -1,\n        \"max\": 1,\n        \"num_unique_values\": 2,\n        \"samples\": [\n          -1,\n          1\n        ],\n        \"semantic_type\": \"\",\n        \"description\": \"\"\n      }\n    },\n    {\n      \"column\": \"company\",\n      \"properties\": {\n        \"dtype\": \"category\",\n        \"num_unique_values\": 12,\n        \"samples\": [\n          \"TMG\",\n          \"capiter\"\n        ],\n        \"semantic_type\": \"\",\n        \"description\": \"\"\n      }\n    }\n  ]\n}"
            }
          },
          "metadata": {},
          "execution_count": 18
        }
      ]
    },
    {
      "cell_type": "code",
      "source": [
        "# !pip install scipy"
      ],
      "metadata": {
        "id": "ncYdeARTbURR"
      },
      "execution_count": 19,
      "outputs": []
    },
    {
      "cell_type": "code",
      "source": [
        "# !pip install gensim"
      ],
      "metadata": {
        "id": "ot0NHN1yg0Lq"
      },
      "execution_count": 20,
      "outputs": []
    },
    {
      "cell_type": "code",
      "source": [
        "# import gensim.downloader as api\n",
        "\n",
        "# model = api.load(\"word2vec-google-news-300\")"
      ],
      "metadata": {
        "id": "UGhBdxBeggJB"
      },
      "execution_count": 21,
      "outputs": []
    },
    {
      "cell_type": "code",
      "source": [
        "# from gensim.models import Word2Vec\n",
        "# w2v_model = Word2Vec(sentences=df[\"review_description\"], vector_size=300, window=5, min_count=2)\n"
      ],
      "metadata": {
        "id": "3vdHQvhNZX8K"
      },
      "execution_count": 22,
      "outputs": []
    },
    {
      "cell_type": "code",
      "source": [
        "def identity(x):\n",
        "    return x\n",
        "\n",
        "from sklearn.feature_extraction.text import TfidfVectorizer\n",
        "\n",
        "tfidf = TfidfVectorizer(\n",
        "    tokenizer=identity,\n",
        "    preprocessor=identity,\n",
        "    token_pattern=None,\n",
        "    ngram_range=(1, 2),\n",
        "    max_features=10000  # reduce overfitting\n",
        ")\n",
        "\n",
        "# Fit on your tokenized reviews\n",
        "X_tfidf = tfidf.fit_transform(df[\"review_description\"])\n",
        "\n",
        "print(\"TF-IDF shape:\", X_tfidf.shape)"
      ],
      "metadata": {
        "colab": {
          "base_uri": "https://localhost:8080/"
        },
        "id": "jNOBaRkPxcpf",
        "outputId": "9cfcaadb-5f71-4367-d1dd-41fc25fc1dc4"
      },
      "execution_count": 23,
      "outputs": [
        {
          "output_type": "stream",
          "name": "stdout",
          "text": [
            "TF-IDF shape: (36223, 10000)\n"
          ]
        }
      ]
    },
    {
      "cell_type": "code",
      "source": [
        "from sklearn.model_selection import train_test_split\n",
        "\n",
        "X = X_tfidf\n",
        "y = df[\"rating\"].replace(-1, 0).values\n",
        "X_train,X_test,y_train,y_test = train_test_split(X,y, test_size=0.2, random_state=42)\n",
        "\n",
        "X_train.shape,X_test.shape,y_train.shape,y_test.shape"
      ],
      "metadata": {
        "colab": {
          "base_uri": "https://localhost:8080/"
        },
        "id": "J4o7UHyYXc7v",
        "outputId": "93e6c03f-1c38-4c1f-d7b7-8e43358c885d"
      },
      "execution_count": 24,
      "outputs": [
        {
          "output_type": "execute_result",
          "data": {
            "text/plain": [
              "((28978, 10000), (7245, 10000), (28978,), (7245,))"
            ]
          },
          "metadata": {},
          "execution_count": 24
        }
      ]
    },
    {
      "cell_type": "code",
      "source": [
        "import tensorflow as tf\n",
        "from tensorflow import keras\n",
        "from tensorflow.keras import layers, regularizers\n",
        "\n",
        "NN = keras.Sequential([\n",
        "    keras.layers.Dense(32, input_shape=(X_train.shape[1],), activation='relu',kernel_regularizer=regularizers.l2(0.001)),\n",
        "    keras.layers.Dense(128, activation='relu'),\n",
        "    layers.Dropout(0.5),\n",
        "    keras.layers.Dense(64, activation='relu'),\n",
        "    layers.Dropout(0.5),\n",
        "    keras.layers.Dense(32, activation='relu'),\n",
        "    keras.layers.Dense(1, activation='sigmoid')\n",
        "])\n",
        "\n",
        "optimizer = keras.optimizers.Adam(learning_rate=0.01)\n",
        "NN.compile(optimizer=optimizer,\n",
        "           loss='binary_crossentropy',\n",
        "           metrics=['accuracy'])\n",
        "\n",
        "history = NN.fit(X_train, y_train, epochs=10, batch_size=32,\n",
        "                 validation_data=(X_test, y_test))"
      ],
      "metadata": {
        "colab": {
          "base_uri": "https://localhost:8080/"
        },
        "id": "qv-MK_GSeQDu",
        "outputId": "a204cc65-cbec-4a90-efc7-564e073b3735"
      },
      "execution_count": 25,
      "outputs": [
        {
          "output_type": "stream",
          "name": "stdout",
          "text": [
            "Epoch 1/10\n",
            "\u001b[1m906/906\u001b[0m \u001b[32m━━━━━━━━━━━━━━━━━━━━\u001b[0m\u001b[37m\u001b[0m \u001b[1m12s\u001b[0m 11ms/step - accuracy: 0.7781 - loss: 0.5956 - val_accuracy: 0.8443 - val_loss: 0.5127\n",
            "Epoch 2/10\n",
            "\u001b[1m906/906\u001b[0m \u001b[32m━━━━━━━━━━━━━━━━━━━━\u001b[0m\u001b[37m\u001b[0m \u001b[1m9s\u001b[0m 10ms/step - accuracy: 0.8610 - loss: 0.4975 - val_accuracy: 0.8446 - val_loss: 0.4918\n",
            "Epoch 3/10\n",
            "\u001b[1m906/906\u001b[0m \u001b[32m━━━━━━━━━━━━━━━━━━━━\u001b[0m\u001b[37m\u001b[0m \u001b[1m10s\u001b[0m 10ms/step - accuracy: 0.8606 - loss: 0.4868 - val_accuracy: 0.8522 - val_loss: 0.4883\n",
            "Epoch 4/10\n",
            "\u001b[1m906/906\u001b[0m \u001b[32m━━━━━━━━━━━━━━━━━━━━\u001b[0m\u001b[37m\u001b[0m \u001b[1m11s\u001b[0m 10ms/step - accuracy: 0.8657 - loss: 0.4649 - val_accuracy: 0.8511 - val_loss: 0.4826\n",
            "Epoch 5/10\n",
            "\u001b[1m906/906\u001b[0m \u001b[32m━━━━━━━━━━━━━━━━━━━━\u001b[0m\u001b[37m\u001b[0m \u001b[1m9s\u001b[0m 10ms/step - accuracy: 0.8654 - loss: 0.4697 - val_accuracy: 0.8392 - val_loss: 0.4902\n",
            "Epoch 6/10\n",
            "\u001b[1m906/906\u001b[0m \u001b[32m━━━━━━━━━━━━━━━━━━━━\u001b[0m\u001b[37m\u001b[0m \u001b[1m12s\u001b[0m 13ms/step - accuracy: 0.8646 - loss: 0.4586 - val_accuracy: 0.8613 - val_loss: 0.4620\n",
            "Epoch 7/10\n",
            "\u001b[1m906/906\u001b[0m \u001b[32m━━━━━━━━━━━━━━━━━━━━\u001b[0m\u001b[37m\u001b[0m \u001b[1m8s\u001b[0m 9ms/step - accuracy: 0.8707 - loss: 0.4541 - val_accuracy: 0.8505 - val_loss: 0.4762\n",
            "Epoch 8/10\n",
            "\u001b[1m906/906\u001b[0m \u001b[32m━━━━━━━━━━━━━━━━━━━━\u001b[0m\u001b[37m\u001b[0m \u001b[1m10s\u001b[0m 9ms/step - accuracy: 0.8712 - loss: 0.4522 - val_accuracy: 0.8551 - val_loss: 0.4701\n",
            "Epoch 9/10\n",
            "\u001b[1m906/906\u001b[0m \u001b[32m━━━━━━━━━━━━━━━━━━━━\u001b[0m\u001b[37m\u001b[0m \u001b[1m11s\u001b[0m 10ms/step - accuracy: 0.8701 - loss: 0.4544 - val_accuracy: 0.8569 - val_loss: 0.4619\n",
            "Epoch 10/10\n",
            "\u001b[1m906/906\u001b[0m \u001b[32m━━━━━━━━━━━━━━━━━━━━\u001b[0m\u001b[37m\u001b[0m \u001b[1m11s\u001b[0m 11ms/step - accuracy: 0.8730 - loss: 0.4343 - val_accuracy: 0.8581 - val_loss: 0.4526\n"
          ]
        }
      ]
    },
    {
      "cell_type": "code",
      "source": [
        "from sklearn.metrics import classification_report\n",
        "\n",
        "y_pred_NN = NN.predict(X_test)\n",
        "\n",
        "train_loss, train_accuracy = NN.evaluate(X_train, y_train, verbose=0)\n",
        "test_loss, test_accuracy = NN.evaluate(X_test, y_test, verbose=0)\n",
        "\n",
        "print(f'Train Accuracy: {train_accuracy:.4f},\\nTrain Loss: {train_loss:.4f}')\n",
        "print(f'Test Accuracy: {test_accuracy:.4f},\\nTest Loss: {test_loss:.4f}')\n",
        "\n",
        "y_pred = (y_pred_NN > 0.5).astype(\"int32\")\n",
        "print(classification_report(y_test, y_pred))\n"
      ],
      "metadata": {
        "id": "3aUlsyvbeQLs",
        "colab": {
          "base_uri": "https://localhost:8080/"
        },
        "outputId": "baaf6a5c-c746-44da-cb59-57983be2e503"
      },
      "execution_count": 26,
      "outputs": [
        {
          "output_type": "stream",
          "name": "stdout",
          "text": [
            "\u001b[1m227/227\u001b[0m \u001b[32m━━━━━━━━━━━━━━━━━━━━\u001b[0m\u001b[37m\u001b[0m \u001b[1m1s\u001b[0m 3ms/step\n",
            "Train Accuracy: 0.8828,\n",
            "Train Loss: 0.4120\n",
            "Test Accuracy: 0.8581,\n",
            "Test Loss: 0.4526\n",
            "              precision    recall  f1-score   support\n",
            "\n",
            "           0       0.80      0.84      0.82      2772\n",
            "           1       0.90      0.87      0.88      4473\n",
            "\n",
            "    accuracy                           0.86      7245\n",
            "   macro avg       0.85      0.86      0.85      7245\n",
            "weighted avg       0.86      0.86      0.86      7245\n",
            "\n"
          ]
        }
      ]
    },
    {
      "cell_type": "code",
      "source": [
        "import pickle\n",
        "\n",
        "with open(\"tfidf_vectorizer.pkl\", \"wb\") as f:\n",
        "    pickle.dump(tfidf, f)\n",
        "\n",
        "NN.save(\"arabic_sentiment_model.h5\")\n"
      ],
      "metadata": {
        "id": "GydjC1IwT-Wy",
        "colab": {
          "base_uri": "https://localhost:8080/"
        },
        "outputId": "7a692f7d-4e1c-45a4-db98-8373dba525e6"
      },
      "execution_count": 27,
      "outputs": [
        {
          "output_type": "stream",
          "name": "stderr",
          "text": [
            "WARNING:absl:You are saving your model as an HDF5 file via `model.save()` or `keras.saving.save_model(model)`. This file format is considered legacy. We recommend using instead the native Keras format, e.g. `model.save('my_model.keras')` or `keras.saving.save_model(model, 'my_model.keras')`. \n"
          ]
        }
      ]
    },
    {
      "cell_type": "code",
      "source": [
        "import pickle\n",
        "import numpy as np\n",
        "from tensorflow import keras\n",
        "\n",
        "# Load saved TF-IDF and ANN model\n",
        "with open(\"tfidf_vectorizer.pkl\", \"rb\") as f:\n",
        "    tfidf = pickle.load(f)\n",
        "\n",
        "model = keras.models.load_model(\"arabic_sentiment_model.h5\")\n",
        "\n",
        "def predict_sentiment(review):\n",
        "    tokens = arabic_preprocess(review)\n",
        "\n",
        "    X_tfidf_review = tfidf.transform([tokens])\n",
        "\n",
        "    # ANN expects dense array\n",
        "    X_input = X_tfidf_review.toarray()\n",
        "\n",
        "    # Predict probability\n",
        "    prob = model.predict(X_input)[0][0]\n",
        "\n",
        "    # Threshold 0.5 for binary classification\n",
        "    predicted_class = 1 if prob >= 0.5 else 0\n",
        "\n",
        "    mapping = {0: -1, 1: 1}\n",
        "    return mapping[predicted_class]\n"
      ],
      "metadata": {
        "id": "lzj5pWcjj8nV",
        "colab": {
          "base_uri": "https://localhost:8080/"
        },
        "outputId": "2f89fdd9-d823-4b65-a66c-f66d35bce70e"
      },
      "execution_count": 28,
      "outputs": [
        {
          "output_type": "stream",
          "name": "stderr",
          "text": [
            "WARNING:absl:Compiled the loaded model, but the compiled metrics have yet to be built. `model.compile_metrics` will be empty until you train or evaluate the model.\n"
          ]
        }
      ]
    },
    {
      "cell_type": "code",
      "source": [
        "# !pip install gradio"
      ],
      "metadata": {
        "id": "yqY3KOSU0-ja"
      },
      "execution_count": 29,
      "outputs": []
    },
    {
      "cell_type": "code",
      "source": [
        "import gradio as gr\n",
        "\n",
        "interface = gr.Interface(\n",
        "    fn=predict_sentiment,\n",
        "    inputs=gr.Textbox(lines=5, placeholder=\"أدخل تقييمك هنا ...\"),\n",
        "    outputs=\"text\",\n",
        "    title=\"Arabic Sentiment Analysis\",\n",
        "    description=\"أدخل مراجعة باللغة العربية ليقوم النموذج بتصنيفها على أنها سلبية (-1)، أو إيجابية (1).\"\n",
        ")\n",
        "\n",
        "interface.launch()\n"
      ],
      "metadata": {
        "id": "AZhMZ8NZj8ur",
        "colab": {
          "base_uri": "https://localhost:8080/",
          "height": 645
        },
        "outputId": "0dea40bc-65f1-442f-e73b-f160fc4dbc78"
      },
      "execution_count": 30,
      "outputs": [
        {
          "output_type": "stream",
          "name": "stdout",
          "text": [
            "It looks like you are running Gradio on a hosted Jupyter notebook, which requires `share=True`. Automatically setting `share=True` (you can turn this off by setting `share=False` in `launch()` explicitly).\n",
            "\n",
            "Colab notebook detected. To show errors in colab notebook, set debug=True in launch()\n",
            "* Running on public URL: https://88147cdf0ec53aa0b7.gradio.live\n",
            "\n",
            "This share link expires in 1 week. For free permanent hosting and GPU upgrades, run `gradio deploy` from the terminal in the working directory to deploy to Hugging Face Spaces (https://huggingface.co/spaces)\n"
          ]
        },
        {
          "output_type": "display_data",
          "data": {
            "text/plain": [
              "<IPython.core.display.HTML object>"
            ],
            "text/html": [
              "<div><iframe src=\"https://88147cdf0ec53aa0b7.gradio.live\" width=\"100%\" height=\"500\" allow=\"autoplay; camera; microphone; clipboard-read; clipboard-write;\" frameborder=\"0\" allowfullscreen></iframe></div>"
            ]
          },
          "metadata": {}
        },
        {
          "output_type": "execute_result",
          "data": {
            "text/plain": []
          },
          "metadata": {},
          "execution_count": 30
        }
      ]
    },
    {
      "cell_type": "code",
      "source": [],
      "metadata": {
        "id": "R_FjOU_Aj83J"
      },
      "execution_count": 30,
      "outputs": []
    }
  ]
}